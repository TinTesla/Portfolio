{
 "cells": [
  {
   "cell_type": "code",
   "execution_count": 2,
   "id": "f191b4b4",
   "metadata": {},
   "outputs": [],
   "source": [
    "import random"
   ]
  },
  {
   "cell_type": "code",
   "execution_count": null,
   "id": "f5556c11",
   "metadata": {},
   "outputs": [],
   "source": []
  },
  {
   "cell_type": "code",
   "execution_count": null,
   "id": "2a7e9910",
   "metadata": {},
   "outputs": [],
   "source": []
  },
  {
   "cell_type": "code",
   "execution_count": null,
   "id": "e22d7ca0",
   "metadata": {},
   "outputs": [],
   "source": [
    "round_input = 1000000"
   ]
  },
  {
   "cell_type": "code",
   "execution_count": 10,
   "id": "b9e96c66",
   "metadata": {},
   "outputs": [],
   "source": [
    "full_results = {}\n",
    "round_results = {'average hits to bust': 0,\n",
    "                 '':0,\n",
    "                 '':0,\n",
    "                 'win_rate' : {'win':0,'push':0,'lost':0}}\n",
    "\n",
    "hit_count = 0\n",
    "final_hand = 0\n",
    "starting_hand = 0\n",
    "win_rate = {'win':0,\n",
    "           'push':0,\n",
    "           'lost':0}\n",
    "                 \n",
    "                 \n",
    "                 \n",
    "                 \n",
    "new_results = {'stand_1': [],\n",
    "               'stand_2': [],\n",
    "               'stand_3': [],\n",
    "               'stand_4': [],\n",
    "               'stand_5': [],\n",
    "               'stand_6': [],\n",
    "               'stand_7': [],\n",
    "               'stand_8': [],\n",
    "               'stand_9': [],\n",
    "               'stand_10': [],\n",
    "               'hit_to_bust': [],\n",
    "               'safe_hit_max': []}\n",
    "       \n",
    "simplified_results:{'dealer shows 2':0,\n",
    "                    'dealer shows 3':0,\n",
    "                    'dealer shows 4':0,\n",
    "                    'dealer shows 5':0,\n",
    "                    'dealer shows 6':0,\n",
    "                    'dealer shows 7':0,\n",
    "                    'dealer shows 8':0,\n",
    "                    'dealer shows 9':0,\n",
    "                    'dealer shows 10':0,\n",
    "                    'dealer shows A':0}"
   ]
  },
  {
   "cell_type": "code",
   "execution_count": null,
   "id": "3cd30cf8",
   "metadata": {},
   "outputs": [],
   "source": [
    "round_input = 1000000\n",
    "options = ['S','H','T','D','F']\n",
    "\n",
    "for hand in range(4,21):\n",
    "    \n",
    "    starting_hand = hand\n",
    "\n",
    "        for round in range (round_input):\n",
    "\n",
    "            dealer_hand = random.randint(4,21)\n",
    "\n",
    "            while dealer_hand < 17:\n",
    "                dealer_card = random.randint(2,11)\n",
    "                if dealer_card == 11 and dealer_card+dealer_hand > 21:\n",
    "                    dealer_hand += 1\n",
    "                else:\n",
    "                    dealer_hand += dealer_card\n",
    "\n",
    "            #______________________________________\n",
    "            # Turn loop\n",
    "            draw_count = 0\n",
    "            draw_loop = True\n",
    "\n",
    "            while draw_loop:\n",
    "                if hand >= 21 or draw_count > 9:\n",
    "                    draw_loop = False\n",
    "                else:\n",
    "                    # new card value\n",
    "                    new_card = random.randint(2,11)\n",
    "                    # check for ace flip\n",
    "                    if new_card = 11 and new_card+hand > 21:\n",
    "                        hand += 1\n",
    "                    else:\n",
    "                        hand += new_card\n",
    "                draw_count += 1\n",
    "                \n",
    "            # Final hand value\n",
    "            final_hand = hand\n",
    "            \n",
    "                "
   ]
  },
  {
   "cell_type": "code",
   "execution_count": null,
   "id": "6091b0b2",
   "metadata": {},
   "outputs": [],
   "source": []
  },
  {
   "cell_type": "code",
   "execution_count": null,
   "id": "0753e36b",
   "metadata": {},
   "outputs": [],
   "source": [
    "# Calculating sum of results\n",
    "total_plays = 0\n",
    "for key in win_rates:\n",
    "    total_plays += win_rates[key]\n",
    "    \n",
    "print(f'Number of rounds played: {total_plays}')\n",
    "print('')\n",
    "#_____________________________________________________\n",
    "# Detailed Breakdown Check\n",
    "print(f\"Player blackjack, dealer lost = {win_rates['PJDL']}\")\n",
    "print(f\"Player blackjack, dealer bust = {win_rates['PJDB']}\")\n",
    "print(f\"Player lost, dealer blackjack = {win_rates['PLDJ']}\")\n",
    "print(f\"Player bust, dealer blackjack = {win_rates['PBDJ']}\")\n",
    "print(f\"Push, each with blackjacks = {win_rates['PJDJ']}\")\n",
    "print(f\"Player wins, dealer lost = {win_rates['PWDL']}\")\n",
    "print(f\"Player wins, dealer bust = {win_rates['PWDB']}\")\n",
    "print(f\"Player loss, dealer wins = {win_rates['PLDW']}\")\n",
    "print(f\"Player bust, dealer wins = {win_rates['PBDW']}\")\n",
    "print(f\"Player bust, dealer bust = {win_rates['PBDB']}\")\n",
    "print(f\"Standard Push = {win_rates['PpDp']}\")\n",
    "\n",
    "#_____________________________________________________\n",
    "# Calculating categories\n",
    "win_rate = (win_rates['PJDL']+\n",
    "            win_rates['PJDB']+\n",
    "            win_rates['PWDL']+\n",
    "            win_rates['PWDB'])\n",
    "push_rate = (win_rates['PJDJ']+\n",
    "             win_rates['PpDp'])\n",
    "loss_rate = (win_rates['PLDJ']+\n",
    "             win_rates['PBDJ']+\n",
    "             win_rates['PLDW']+\n",
    "             win_rates['PBDW']+\n",
    "             win_rates['PBDB'])\n",
    "#____________________________________________________\n",
    "# Standard Percentage Breakdown\n",
    "print(f\"Win Rate = {(win_rate/total_plays)*100}%\")\n",
    "print(f\"Push Rate = {(push_rate/total_plays)*100}%\")\n",
    "print(f\"Loss Rate = {(loss_rate/total_plays)*100}%\")"
   ]
  },
  {
   "cell_type": "code",
   "execution_count": 3,
   "id": "8bb12e64",
   "metadata": {},
   "outputs": [
    {
     "name": "stdout",
     "output_type": "stream",
     "text": [
      "11\n",
      "11\n",
      "11\n"
     ]
    }
   ],
   "source": [
    "new_card_1 = random.randint(2,11)\n",
    "print(new_card_1)\n",
    "print(new_card_1)\n",
    "print(new_card_1)"
   ]
  },
  {
   "cell_type": "code",
   "execution_count": 27,
   "id": "b2806eea",
   "metadata": {},
   "outputs": [
    {
     "name": "stdout",
     "output_type": "stream",
     "text": [
      "hand is [9, 3]\n",
      "hand sum is 12\n",
      "\n",
      "hand is [8, 3]\n",
      "hand sum is 11\n",
      "\n",
      "hand is [8, 6]\n",
      "hand sum is 14\n",
      "\n",
      "hand is [9, 3]\n",
      "hand sum is 12\n",
      "\n",
      "hand is [4, 9]\n",
      "hand sum is 13\n",
      "\n",
      "hand is [4, 4]\n",
      "hand sum is 8\n",
      "\n",
      "hand is [9, 11]\n",
      "hand sum is 20\n",
      "\n",
      "hand is [4, 11]\n",
      "hand sum is 15\n",
      "\n",
      "hand is [3, 4]\n",
      "hand sum is 7\n",
      "\n",
      "hand is [6, 11]\n",
      "hand sum is 17\n",
      "\n"
     ]
    }
   ],
   "source": [
    "for _ in range(10):\n",
    "    hand = []\n",
    "    for _ in range(2):\n",
    "        hand.append(new_card())   \n",
    "    print(f'hand is {hand}')\n",
    "    print(f'hand sum is {sum(hand)}')\n",
    "    print('')"
   ]
  },
  {
   "cell_type": "code",
   "execution_count": 62,
   "id": "7e616aa6",
   "metadata": {},
   "outputs": [],
   "source": [
    "def new_card():\n",
    "    card = random.randint(2,11)\n",
    "    return card"
   ]
  },
  {
   "cell_type": "code",
   "execution_count": 65,
   "id": "a4eba4e9",
   "metadata": {},
   "outputs": [],
   "source": [
    "full_result = {}\n",
    "outer_dict = {'good':0,\n",
    "              'bust':0,\n",
    "              'avg end hand':0}\n",
    "inner_dict = {'good':0,\n",
    "              'bust':0,\n",
    "              'end hands':[]}\n",
    "total_plays = 1000000"
   ]
  },
  {
   "cell_type": "code",
   "execution_count": 66,
   "id": "acd0969b",
   "metadata": {},
   "outputs": [
    {
     "data": {
      "text/plain": [
       "{'dealer shows 2': {'bust %': 22.7665, 'avg end hand': 19.855271},\n",
       " 'dealer shows 3': {'bust %': 23.709600000000002, 'avg end hand': 19.895284},\n",
       " 'dealer shows 4': {'bust %': 25.3314, 'avg end hand': 19.969559},\n",
       " 'dealer shows 5': {'bust %': 27.420299999999997, 'avg end hand': 20.095642},\n",
       " 'dealer shows 6': {'bust %': 27.832099999999997, 'avg end hand': 19.974489},\n",
       " 'dealer shows 7': {'bust %': 25.583499999999997, 'avg end hand': 19.808188},\n",
       " 'dealer shows 8': {'bust %': 23.3129, 'avg end hand': 19.723866},\n",
       " 'dealer shows 9': {'bust %': 21.3822, 'avg end hand': 19.742401},\n",
       " 'dealer shows 10': {'bust %': 19.4638, 'avg end hand': 19.858642},\n",
       " 'dealer shows 11': {'bust %': 6.9354, 'avg end hand': 19.293535}}"
      ]
     },
     "execution_count": 66,
     "metadata": {},
     "output_type": "execute_result"
    }
   ],
   "source": [
    "#loop per card value\n",
    "for card_1 in range(2,12):\n",
    "    \n",
    "    #bin reset\n",
    "    round_result = {'bust %':0,\n",
    "                    'avg end hand':0}\n",
    "    good_hands = 0\n",
    "    bust_hands = 0\n",
    "    end_hand = []\n",
    "    \n",
    "    # main loop\n",
    "    #_______________________________\n",
    "    for _ in range(total_plays):\n",
    "           \n",
    "        #initial hand\n",
    "        hand = [card_1,new_card()]\n",
    "        \n",
    "        # dual ace check\n",
    "        if sum(hand) == 22:\n",
    "            dealer_ace = 0 \n",
    "            hand[dealer_ace] = 1\n",
    "            \n",
    "        # deal logic\n",
    "        if sum(hand) < 17:\n",
    "            while sum(hand) < 17:\n",
    "                hand.append(new_card())\n",
    "                if sum(hand) > 21:\n",
    "                    if 11 in hand:\n",
    "                        dealer_ace = hand.index(11)\n",
    "                        hand[dealer_ace] = 1\n",
    "                        \n",
    "        # update inner bins\n",
    "        if sum(hand) > 21:\n",
    "            bust_hands += 1\n",
    "            \n",
    "        # add hand to inner bin\n",
    "        end_hand.append(sum(hand))\n",
    "\n",
    "    # update outer dictionary\n",
    "    round_result['bust %'] = round((bust_hands/total_plays)*100,2)\n",
    "    round_result['avg end hand'] = round(sum(end_hand)/total_plays,2)\n",
    "    # push outer dictionary\n",
    "    full_result[f\"dealer shows {card_1}\"] = round_result\n",
    "    \n",
    "full_result"
   ]
  },
  {
   "cell_type": "code",
   "execution_count": null,
   "id": "124bfebe",
   "metadata": {},
   "outputs": [],
   "source": []
  }
 ],
 "metadata": {
  "kernelspec": {
   "display_name": "Python 3 (ipykernel)",
   "language": "python",
   "name": "python3"
  },
  "language_info": {
   "codemirror_mode": {
    "name": "ipython",
    "version": 3
   },
   "file_extension": ".py",
   "mimetype": "text/x-python",
   "name": "python",
   "nbconvert_exporter": "python",
   "pygments_lexer": "ipython3",
   "version": "3.7.1"
  }
 },
 "nbformat": 4,
 "nbformat_minor": 5
}
