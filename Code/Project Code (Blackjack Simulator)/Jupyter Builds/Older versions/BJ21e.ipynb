{
 "cells": [
  {
   "cell_type": "markdown",
   "id": "f5b8ad08",
   "metadata": {},
   "source": [
    "# INITIAL SETUP"
   ]
  },
  {
   "cell_type": "code",
   "execution_count": 1,
   "id": "d57bc212",
   "metadata": {},
   "outputs": [],
   "source": [
    "# Import dependencies\n",
    "import random\n",
    "import copy\n",
    "import numpy as np\n",
    "import time"
   ]
  },
  {
   "cell_type": "code",
   "execution_count": 2,
   "id": "cadca404",
   "metadata": {},
   "outputs": [],
   "source": [
    "# Start the full timer\n",
    "boot_start = time.time()"
   ]
  },
  {
   "cell_type": "code",
   "execution_count": 3,
   "id": "7489346c",
   "metadata": {},
   "outputs": [],
   "source": [
    "# custom functions\n",
    "\n",
    "# Defining dictionary layout of decks\n",
    "def new_deck():\n",
    "    return {\"suits\": [],\n",
    "            \"values\": [],\n",
    "            \"ids\": []}\n",
    "\n",
    "# Takes an input, and randomly selects an index from the original, to one by one assemble a shuffled deck\n",
    "def randomized_shuffling(deck):\n",
    "    # Create a copy of the original deck to work with\n",
    "    bin_deck = copy.deepcopy(deck)\n",
    "\n",
    "    # Create a new deck to store the shuffled cards\n",
    "    master_deck = new_deck()\n",
    "\n",
    "    # Randomize the deck\n",
    "    while len(bin_deck[\"suits\"]) > 0:\n",
    "        # Pick a random index\n",
    "        random_index = random.randint(0, len(bin_deck[\"suits\"]) - 1)\n",
    "\n",
    "        # Add the card at the random index to the master deck\n",
    "        for key in [\"suits\", \"values\", \"ids\"]:\n",
    "            master_deck[key].append(bin_deck[key].pop(random_index))\n",
    "\n",
    "    return master_deck\n",
    "\n",
    "# Takes an input, and shuffles is in an alternating pattern\n",
    "def interlaced_shuffling(deck):\n",
    "    # Initial Setup\n",
    "    temp_deck = copy.deepcopy(deck)\n",
    "\n",
    "    # Randomize the deck a random number of times\n",
    "    shuffle_count = random.randint(10, 20)\n",
    "    for _ in range(shuffle_count):\n",
    "        # Create a temporary deck to store the shuffled cards\n",
    "        master_deck = new_deck()\n",
    "\n",
    "        # Interlace shuffle\n",
    "        half = len(temp_deck[\"suits\"]) // 2\n",
    "        for card in range(half):\n",
    "            for key in [\"suits\", \"values\", \"ids\"]:\n",
    "                master_deck[key].append(temp_deck[key][half + card])\n",
    "                master_deck[key].append(temp_deck[key][card])\n",
    "\n",
    "    return master_deck\n",
    "\n",
    "# Takes 2 inputs, and seperates them accross 52 bins in a random order before reassembling by bin\n",
    "def rotary_shuffling(master_deck, discard_deck):\n",
    "    # Port and merge to temp dictionary\n",
    "    temp_deck = new_deck()\n",
    "    for key in temp_deck:\n",
    "        temp_deck[key].extend(discard_deck[key])\n",
    "        temp_deck[key].extend(master_deck[key])\n",
    "\n",
    "    # Resets\n",
    "    master_deck = new_deck()\n",
    "    discard_deck = new_deck()\n",
    "\n",
    "    # Rotary shuffler reset / setup\n",
    "    rotary_shuffler = {}\n",
    "    slot_bins = list(range(52))\n",
    "    open_bins = list(range(52))\n",
    "\n",
    "    for id in range(52):\n",
    "        # Building out dictionary with 52 bins\n",
    "        slot_name = f\"Bin {id}\"\n",
    "        rotary_shuffler[slot_name] = new_deck().copy()\n",
    "\n",
    "    # Loop until all cards are binned\n",
    "    while temp_deck[\"suits\"]:\n",
    "        # Randomized target\n",
    "        current_slot = random.choice(open_bins)\n",
    "        slot_name = f\"Bin {current_slot}\"\n",
    "\n",
    "        # Checking if bin has room, and transferring values if able\n",
    "        if len(rotary_shuffler[slot_name][\"suits\"]) <= 8:\n",
    "            for key in [\"suits\", \"values\", \"ids\"]:\n",
    "                rotary_shuffler[slot_name][key].append(temp_deck[key].pop(0))\n",
    "            if len(rotary_shuffler[slot_name][\"suits\"]) == 8:\n",
    "                open_bins.remove(current_slot)\n",
    "\n",
    "    # Dump bins to new master_deck\n",
    "    opposite_slot = random.choice(slot_bins) + 25\n",
    "\n",
    "    while slot_bins:\n",
    "        # Adjustments to stay within correct index range\n",
    "        opposite_slot %= 52\n",
    "        slot_name = f\"Bin {opposite_slot}\"\n",
    "\n",
    "        # Transferring values back to master_deck\n",
    "        for key in [\"suits\", \"values\", \"ids\"]:\n",
    "            master_deck[key].extend(rotary_shuffler[slot_name][key])\n",
    "\n",
    "        del rotary_shuffler[slot_name]\n",
    "        slot_bins.remove(opposite_slot)\n",
    "\n",
    "        # Move to next bin\n",
    "        opposite_slot += 1\n",
    "\n",
    "    # Return the shuffled master_deck and the emptied/reset discard_deck\n",
    "    return master_deck, discard_deck"
   ]
  },
  {
   "cell_type": "code",
   "execution_count": 4,
   "id": "d4e7c206",
   "metadata": {},
   "outputs": [],
   "source": [
    "#Inital Deck build\n",
    "# Unicode icons\n",
    "spade = '\\u2660'\n",
    "club = '\\u2663'\n",
    "heart = '\\u2665'\n",
    "diamond = '\\u2666'\n",
    "\n",
    "#setting up unique features\n",
    "suits = [spade,diamond,club,heart]\n",
    "faces = [\"A\",\"2\",\"3\",\"4\",\"5\",\"6\",\"7\",\"8\",\"9\",\"10\",\"J\",\"Q\",\"K\"]\n",
    "values = [11,2,3,4,5,6,7,8,9,10,10,10,10]\n",
    "\n",
    "# initial setup\n",
    "raw_deck = {\"suits\": [],\n",
    "            \"values\": []}\n",
    "\n",
    "# loop to initalize all unique combinations in both bins\n",
    "for suit_index,suit in enumerate(suits):\n",
    "    # forward iteration for first 2 suits\n",
    "    if suit_index < 2:\n",
    "        for face_index, face in enumerate(faces):\n",
    "            raw_deck[\"suits\"] += [suit + face]\n",
    "            raw_deck[\"values\"] += [values[face_index]]\n",
    "    # reverse iteration for last 2 suits\n",
    "    else:\n",
    "        for face_index, face in enumerate(reversed(faces)):\n",
    "            raw_deck[\"suits\"] += [suit + face]\n",
    "            raw_deck[\"values\"] += [values[-face_index-1]]\n",
    "            \n",
    "# Now building a deck of 8 decks in new deck order\n",
    "raw_master = new_deck()\n",
    "\n",
    "# loop to make master deck using 8 raw decks\n",
    "for deck in range(8):\n",
    "    raw_master[\"suits\"] += raw_deck[\"suits\"]\n",
    "    raw_master[\"values\"] += raw_deck[\"values\"]\n",
    "    \n",
    "# loop to create unique ids for each of the cards made in the master deck\n",
    "for id in range(len(raw_master[\"suits\"])):\n",
    "    raw_master[\"ids\"] += [id]"
   ]
  },
  {
   "cell_type": "code",
   "execution_count": 5,
   "id": "ba973e98",
   "metadata": {},
   "outputs": [],
   "source": [
    "# doing a random shuffle first\n",
    "master_deck = randomized_shuffling(raw_master)\n",
    "# then doing an interlaced shuffle to further randomize\n",
    "master_deck = interlaced_shuffling(master_deck)\n",
    "\n",
    "# initializing discard deck\n",
    "discard_deck = new_deck()"
   ]
  },
  {
   "cell_type": "markdown",
   "id": "3deba5dd",
   "metadata": {},
   "source": [
    "# INITIAL TESTING"
   ]
  },
  {
   "cell_type": "code",
   "execution_count": 6,
   "id": "151500bd",
   "metadata": {},
   "outputs": [
    {
     "name": "stdout",
     "output_type": "stream",
     "text": [
      "416\n",
      "416\n",
      "416\n",
      "['♥10', '♦K', '♦Q', '♣2', '♦9', '♥K', '♥A', '♥Q', '♣10']\n",
      "[10, 10, 10, 2, 9, 10, 11, 10, 10]\n",
      "[354, 389, 284, 297, 177, 403, 51, 404, 341]\n"
     ]
    }
   ],
   "source": [
    "# test prints\n",
    "print(len(master_deck[\"suits\"]))\n",
    "print(len(master_deck[\"values\"]))\n",
    "print(len(master_deck[\"ids\"]))\n",
    "print(master_deck[\"suits\"][0:9])\n",
    "print(master_deck[\"values\"][0:9])\n",
    "print(master_deck[\"ids\"][0:9])"
   ]
  },
  {
   "cell_type": "code",
   "execution_count": 7,
   "id": "59ce0c8e",
   "metadata": {},
   "outputs": [
    {
     "name": "stdout",
     "output_type": "stream",
     "text": [
      "Hand: 1\n",
      "   First Card: ♦2\n",
      "   Second Card: ♦7\n",
      "   Hand Value: 9\n",
      "Hand: 2\n",
      "   First Card: ♦A\n",
      "   Second Card: ♦8\n",
      "   Hand Value: 19\n",
      "Hand: 3\n",
      "   First Card: ♥10\n",
      "   Second Card: ♠3\n",
      "   Hand Value: 13\n",
      "Hand: 4\n",
      "   First Card: ♦2\n",
      "   Second Card: ♣5\n",
      "   Hand Value: 7\n",
      "Hand: 5\n",
      "   First Card: ♠6\n",
      "   Second Card: ♣J\n",
      "   Hand Value: 16\n",
      "Hand: 6\n",
      "   First Card: ♦3\n",
      "   Second Card: ♣2\n",
      "   Hand Value: 5\n",
      "Hand: 7\n",
      "   First Card: ♣6\n",
      "   Second Card: ♦8\n",
      "   Hand Value: 14\n",
      "Hand: 8\n",
      "   First Card: ♦9\n",
      "   Second Card: ♦K\n",
      "   Hand Value: 19\n",
      "Hand: 9\n",
      "   First Card: ♣10\n",
      "   Second Card: ♣5\n",
      "   Hand Value: 15\n",
      "Hand: 10\n",
      "   First Card: ♣2\n",
      "   Second Card: ♦9\n",
      "   Hand Value: 11\n"
     ]
    }
   ],
   "source": [
    "#Re-Testing random pairing for accuracy\n",
    "max_range = len(master_deck[\"suits\"])-2\n",
    "\n",
    "for X in range(10):\n",
    "    \n",
    "    first = random.randint(0,max_range)\n",
    "    second = first+1\n",
    "\n",
    "    # print test\n",
    "    print(f\"Hand: {X+1}\")\n",
    "    print(\"   First Card:\",master_deck[\"suits\"][first])\n",
    "    print(\"   Second Card:\",master_deck[\"suits\"][second])\n",
    "    print(\"   Hand Value:\", (master_deck[\"values\"][first] + master_deck[\"values\"][second]))"
   ]
  },
  {
   "cell_type": "markdown",
   "id": "a4afcfa4",
   "metadata": {},
   "source": [
    "# SIMULATION"
   ]
  },
  {
   "cell_type": "code",
   "execution_count": 8,
   "id": "44126053",
   "metadata": {},
   "outputs": [],
   "source": [
    "win_rates = {\"PJDL\":0, #Player blackjack, dealer lost\n",
    "             \"PJDB\":0, #Player blackjack, dealer bust\n",
    "             \"PLDJ\":0, #Player lost, dealer blackjack\n",
    "             \"PBDJ\":0, #Player bust, dealer blackjack\n",
    "             \"PJDJ\":0, #Push, each with blackjacks\n",
    "             \"PWDL\":0, #Player wins, dealer lost\n",
    "             \"PWDB\":0, #Player wins, dealer bust\n",
    "             \"PLDW\":0, #Player loss, dealer wins\n",
    "             \"PBDW\":0, #Player bust, dealer wins\n",
    "             \"PBDB\":0, #Player bust, dealer bust\n",
    "             \"PpDp\":0, #Standard Push\n",
    "             \"Errors\":0} #Error Check"
   ]
  },
  {
   "cell_type": "code",
   "execution_count": 9,
   "id": "ec63e139",
   "metadata": {},
   "outputs": [
    {
     "name": "stdout",
     "output_type": "stream",
     "text": [
      "{'suits': ['♦K', '♣2', '♦9'], 'values': [10, 2, 9], 'ids': [389, 297, 177]}\n"
     ]
    }
   ],
   "source": [
    "# randomly picks a shuffle trigger between the first and last 50 cards\n",
    "cut_target = random.randint(49,(len(master_deck['suits']) - 51))\n",
    "\n",
    "# Initial Setup\n",
    "shuffles = 0\n",
    "games = 0\n",
    "dealer = new_deck()\n",
    "player = new_deck()\n",
    "\n",
    "# Error finding\n",
    "error_a = 0\n",
    "error_b = 0\n",
    "error_c = 0\n",
    "error_d = 0\n",
    "error_e = 0\n",
    "\n",
    "# Start the deal timer\n",
    "deal_start = time.time()\n",
    "\n",
    "# loop for X rounds\n",
    "for rounds in range(1):\n",
    "    #_____________________________________________________\n",
    "    # Shuffle if cut target is reached\n",
    "    \n",
    "    if len(master_deck['suits']) <= cut_target:\n",
    "        master_deck, discard_deck = rotary_shuffling(master_deck, discard_deck)\n",
    "        shuffles += 1\n",
    "        # generate new cut target\n",
    "        cut_target = random.randint(49,(len(master_deck['suits']) - 51))\n",
    "    #_____________________________________________________\n",
    "    # Initial Draws\n",
    "    \n",
    "    for deal in range(2):\n",
    "        for key in [\"suits\", \"values\", \"ids\"]:\n",
    "            dealer[key].append(master_deck[key].pop(0))\n",
    "        for key in [\"suits\", \"values\", \"ids\"]:\n",
    "            player[key].append(master_deck[key].pop(0))\n",
    "            \n",
    "    #_____________________________________________________      \n",
    "    # Check for instant loss/push condition, Skips to results if met\n",
    "    \n",
    "    if sum(dealer['values']) != 21:\n",
    "        \n",
    "        #_____________________________________________________\n",
    "        #Player Play\n",
    "\n",
    "        while sum(player['values']) <= 16:\n",
    "            for key in [\"suits\", \"values\", \"ids\"]:\n",
    "                player[key].append(master_deck[key].pop(0))\n",
    "\n",
    "        #_____________________________________________________\n",
    "        #Dealer Play\n",
    "\n",
    "        # draw to reach limit\n",
    "        while sum(dealer['values']) <= 17:\n",
    "            for key in [\"suits\", \"values\", \"ids\"]:\n",
    "                dealer[key].append(master_deck[key].pop(0))\n",
    "                \n",
    "    #_____________________________________________________\n",
    "    \n",
    "    # Round Results\n",
    "    \n",
    "    # Player blackjack\n",
    "    if sum(player['values']) == 21 and len(player['values']) == 2:\n",
    "        if sum(dealer['values']) == 21:\n",
    "            if len(dealer['values']) == 2:\n",
    "                win_rates[\"PJDJ\"] += 1  # Push, each with blackjacks\n",
    "            else:\n",
    "                win_rates[\"PpDp\"] += 1  # Standard Push\n",
    "        elif sum(dealer['values']) > 21:\n",
    "            win_rates[\"PJDB\"] += 1  # Player blackjack, dealer bust\n",
    "        elif sum(dealer['values']) < 21:\n",
    "            win_rates[\"PJDL\"] += 1  # Player blackjack, dealer lost\n",
    "        else:\n",
    "            win_rates[\"Errors\"] += 1  # Error bin\n",
    "            error_a += 1\n",
    "\n",
    "    # Dealer blackjack        \n",
    "    elif sum(dealer['values']) == 21 and len(dealer['values']) == 2:\n",
    "        if sum(player['values']) != 21:\n",
    "            win_rates[\"PLDJ\"] += 1  # Player lost, dealer blackjack\n",
    "        else:\n",
    "            win_rates[\"Errors\"] += 1  # Error bin\n",
    "            error_b += 1\n",
    "\n",
    "    # Player valid        \n",
    "    elif sum(player['values']) <= 21: \n",
    "        if sum(dealer['values']) <= 21:\n",
    "            if sum(player['values']) > sum(dealer['values']):\n",
    "                win_rates[\"PWDL\"] += 1  # Player wins, dealer lost\n",
    "            elif sum(player['values']) < sum(dealer['values']):\n",
    "                win_rates[\"PLDW\"] += 1  # Player loss, dealer wins\n",
    "            elif sum(dealer['values']) > 21:\n",
    "                win_rates[\"PWDB\"] += 1  # Player wins, dealer bust\n",
    "            elif sum(player['values']) == sum(dealer['values']):\n",
    "                win_rates[\"PpDp\"] += 1  # Standard Push\n",
    "            else:\n",
    "                win_rates[\"Errors\"] += 1  # Error bin\n",
    "                error_c += 1\n",
    "        else:\n",
    "            win_rates[\"PWDB\"] += 1  # Player wins, dealer bust\n",
    "            \n",
    "    # Player busts\n",
    "    else:\n",
    "        if sum(dealer['values']) <= 21:  # Dealer valid\n",
    "            win_rates[\"PBDW\"] += 1  # Player bust, dealer wins\n",
    "        elif sum(dealer['values']) > 21:\n",
    "            win_rates[\"PBDB\"] += 1  # Player bust, dealer bust\n",
    "        else:\n",
    "            win_rates[\"Errors\"] += 1  # Error bin\n",
    "            error_d += 1\n",
    "\n",
    "    # Discard Transfer\n",
    "    for key, value in dealer.items():\n",
    "        if key in discard_deck:\n",
    "            discard_deck[key] += value\n",
    "\n",
    "    for key, value in player.items():\n",
    "        if key in discard_deck:\n",
    "            discard_deck[key] += value\n",
    "\n",
    "    print(f\"{player}\")\n",
    "    # Bin resets\n",
    "    dealer = new_deck()\n",
    "    player = new_deck()\n",
    "\n",
    "    games += 1\n",
    "    \n",
    "# End the deal timer\n",
    "deal_end = time.time()"
   ]
  },
  {
   "cell_type": "code",
   "execution_count": 10,
   "id": "63534987",
   "metadata": {},
   "outputs": [
    {
     "name": "stdout",
     "output_type": "stream",
     "text": [
      "416\n"
     ]
    }
   ],
   "source": [
    "# verifying count (416 = correct)\n",
    "print(len(discard_deck['suits'])+len(master_deck['suits']))"
   ]
  },
  {
   "cell_type": "markdown",
   "id": "f2cc11f1",
   "metadata": {},
   "source": [
    "# RESULTS"
   ]
  },
  {
   "cell_type": "code",
   "execution_count": 11,
   "id": "89a3532c",
   "metadata": {},
   "outputs": [
    {
     "name": "stdout",
     "output_type": "stream",
     "text": [
      "Number of games = 1\n",
      "Number of shuffles = 0\n"
     ]
    }
   ],
   "source": [
    "print(f\"Number of games = {games}\")\n",
    "print(f\"Number of shuffles = {shuffles}\")"
   ]
  },
  {
   "cell_type": "code",
   "execution_count": 12,
   "id": "d06ce59d",
   "metadata": {
    "scrolled": true
   },
   "outputs": [
    {
     "name": "stdout",
     "output_type": "stream",
     "text": [
      "Player blackjack, dealer lost = 0\n",
      "Player blackjack, dealer bust = 0\n",
      "Player lost, dealer blackjack = 0\n",
      "Player bust, dealer blackjack = 0\n",
      "Push, each with blackjacks = 0\n",
      "Player wins, dealer lost = 1\n",
      "Player wins, dealer bust = 0\n",
      "Player loss, dealer wins = 0\n",
      "Player bust, dealer wins = 0\n",
      "Player bust, dealer bust = 0\n",
      "Standard Push = 0\n",
      "Error Count = 0\n",
      "\n",
      "Total results = 1\n"
     ]
    }
   ],
   "source": [
    "# Calculating sum of results\n",
    "total_plays = 0\n",
    "for key in win_rates:\n",
    "    total_plays += win_rates[key]\n",
    "\n",
    "print(f\"Player blackjack, dealer lost = {win_rates['PJDL']}\")\n",
    "print(f\"Player blackjack, dealer bust = {win_rates['PJDB']}\")\n",
    "print(f\"Player lost, dealer blackjack = {win_rates['PLDJ']}\")\n",
    "print(f\"Player bust, dealer blackjack = {win_rates['PBDJ']}\")\n",
    "print(f\"Push, each with blackjacks = {win_rates['PJDJ']}\")\n",
    "print(f\"Player wins, dealer lost = {win_rates['PWDL']}\")\n",
    "print(f\"Player wins, dealer bust = {win_rates['PWDB']}\")\n",
    "print(f\"Player loss, dealer wins = {win_rates['PLDW']}\")\n",
    "print(f\"Player bust, dealer wins = {win_rates['PBDW']}\")\n",
    "print(f\"Player bust, dealer bust = {win_rates['PBDB']}\")\n",
    "print(f\"Standard Push = {win_rates['PpDp']}\")\n",
    "print(f\"Error Count = {win_rates['Errors']}\")\n",
    "print(\"\") # space\n",
    "print(f\"Total results = {total_plays}\")"
   ]
  },
  {
   "cell_type": "code",
   "execution_count": 13,
   "id": "81866f5a",
   "metadata": {},
   "outputs": [
    {
     "name": "stdout",
     "output_type": "stream",
     "text": [
      " Win Rate = 100.0%\n"
     ]
    }
   ],
   "source": [
    "win_rate = (win_rates['PJDL']+\n",
    "            win_rates['PJDB']+\n",
    "            win_rates['PWDL']+\n",
    "            win_rates['PWDB'])\n",
    "print(f\" Win Rate = {(win_rate/total_plays)*100}%\")"
   ]
  },
  {
   "cell_type": "code",
   "execution_count": 14,
   "id": "53619064",
   "metadata": {},
   "outputs": [
    {
     "name": "stdout",
     "output_type": "stream",
     "text": [
      "0\n",
      "0\n",
      "0\n",
      "0\n",
      "0\n"
     ]
    }
   ],
   "source": [
    "print(error_a)\n",
    "print(error_b)\n",
    "print(error_c)\n",
    "print(error_d)\n",
    "print(error_e)"
   ]
  },
  {
   "cell_type": "code",
   "execution_count": 15,
   "id": "033d7ad2",
   "metadata": {},
   "outputs": [
    {
     "name": "stdout",
     "output_type": "stream",
     "text": [
      "1 deals took: 0.0 seconds\n",
      "Full runtime: 0.20363736152648926 seconds\n"
     ]
    }
   ],
   "source": [
    "# End the full timer\n",
    "boot_end = time.time()\n",
    "\n",
    "# Calculate the elapsed times\n",
    "deal_time = deal_end - deal_start\n",
    "boot_time = boot_end - boot_start\n",
    "\n",
    "# Print the elapsed time\n",
    "print(f\"{games} deals took: {deal_time} seconds\")\n",
    "print(f\"Full runtime: {boot_time} seconds\")"
   ]
  },
  {
   "cell_type": "code",
   "execution_count": 16,
   "id": "def0aae5",
   "metadata": {},
   "outputs": [],
   "source": [
    "#BJ21e Performance:\n",
    "#1m deals = 25.75 seconds\n",
    "#Full run = 25.96 seconds"
   ]
  }
 ],
 "metadata": {
  "kernelspec": {
   "display_name": "Python 3 (ipykernel)",
   "language": "python",
   "name": "python3"
  },
  "language_info": {
   "codemirror_mode": {
    "name": "ipython",
    "version": 3
   },
   "file_extension": ".py",
   "mimetype": "text/x-python",
   "name": "python",
   "nbconvert_exporter": "python",
   "pygments_lexer": "ipython3",
   "version": "3.7.1"
  }
 },
 "nbformat": 4,
 "nbformat_minor": 5
}
