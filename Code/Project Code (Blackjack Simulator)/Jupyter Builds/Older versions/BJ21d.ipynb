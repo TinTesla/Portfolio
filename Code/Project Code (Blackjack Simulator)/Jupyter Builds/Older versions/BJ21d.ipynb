{
 "cells": [
  {
   "cell_type": "code",
   "execution_count": 1,
   "id": "7f74fe8b",
   "metadata": {},
   "outputs": [],
   "source": [
    "import random"
   ]
  },
  {
   "cell_type": "code",
   "execution_count": 2,
   "id": "c48bf90c",
   "metadata": {},
   "outputs": [],
   "source": [
    "def new_deck():\n",
    "    return {\"suits\": [],\n",
    "            \"values\": [],\n",
    "            \"ids\": []}"
   ]
  },
  {
   "cell_type": "code",
   "execution_count": 3,
   "id": "b0c32a45",
   "metadata": {},
   "outputs": [],
   "source": [
    "# Unicode icons\n",
    "spade = '\\u2660'\n",
    "club = '\\u2663'\n",
    "heart = '\\u2665'\n",
    "diamond = '\\u2666'\n",
    "\n",
    "#setting up unique features\n",
    "suits = [spade,diamond,club,heart]\n",
    "faces = [\"A\",\"2\",\"3\",\"4\",\"5\",\"6\",\"7\",\"8\",\"9\",\"10\",\"J\",\"Q\",\"K\"]\n",
    "values = [11,2,3,4,5,6,7,8,9,10,10,10,10]\n",
    "\n",
    "# initial setup\n",
    "raw_deck = {\"suits\": [],\n",
    "            \"values\": []}\n",
    "\n",
    "# loop to initalize all unique combinations in both bins\n",
    "for suit_index,suit in enumerate(suits):\n",
    "    # forward iteration for first 2 suits\n",
    "    if suit_index < 2:\n",
    "        for face_index, face in enumerate(faces):\n",
    "            raw_deck[\"suits\"] += [suit + face]\n",
    "            raw_deck[\"values\"] += [values[face_index]]\n",
    "    # reverse iteration for last 2 suits\n",
    "    else:\n",
    "        for face_index, face in enumerate(reversed(faces)):\n",
    "            raw_deck[\"suits\"] += [suit + face]\n",
    "            raw_deck[\"values\"] += [values[-face_index-1]]\n",
    "            \n",
    "            \n",
    "#print checks\n",
    "#print(raw_deck_values)\n",
    "#print(raw_deck_suits)"
   ]
  },
  {
   "cell_type": "code",
   "execution_count": 4,
   "id": "ceb201bf",
   "metadata": {},
   "outputs": [],
   "source": [
    "# initial setup\n",
    "raw_master = new_deck()\n",
    "\n",
    "# loop to make master deck using 8 raw decks\n",
    "for deck in range(8):\n",
    "    raw_master[\"suits\"] += raw_deck[\"suits\"]\n",
    "    raw_master[\"values\"] += raw_deck[\"values\"]\n",
    "    \n",
    "# loop to create unique ids for each of the cards made in the master deck\n",
    "for id in range(len(raw_master[\"suits\"])):\n",
    "    raw_master[\"ids\"] += [id]\n",
    "\n",
    "#print checks\n",
    "#print(len(raw_master_suits))\n",
    "#print(len(raw_master_values))"
   ]
  },
  {
   "cell_type": "code",
   "execution_count": 5,
   "id": "0842a662",
   "metadata": {},
   "outputs": [],
   "source": [
    "# initial setup\n",
    "shuffle_bin = raw_master.copy()\n",
    "master_deck = new_deck()\n",
    "\n",
    "# randomizing deck\n",
    "while len(shuffle_bin[\"suits\"]) > 0:\n",
    "    # picking random index\n",
    "    index_count = len(shuffle_bin[\"suits\"])-1\n",
    "    random_index = random.randint(0 ,index_count)\n",
    "    # adding random index:\n",
    "    for key in [\"suits\", \"values\", \"ids\"]:\n",
    "        master_deck[key].append(shuffle_bin[key].pop(random_index))"
   ]
  },
  {
   "cell_type": "code",
   "execution_count": 6,
   "id": "1bf2748f",
   "metadata": {},
   "outputs": [
    {
     "name": "stdout",
     "output_type": "stream",
     "text": [
      "416\n",
      "416\n",
      "416\n"
     ]
    }
   ],
   "source": [
    "# now doing a series of interlaced shuffled to further randomize\n",
    "\n",
    "# initial setup\n",
    "shuffled_deck = master_deck\n",
    "temp_deck = new_deck()\n",
    "\n",
    "# random times shuffled\n",
    "shuffle_count = random.randint(10,20)\n",
    "\n",
    "for shuffle in range(shuffle_count):\n",
    "    # bin reset per shuffle\n",
    "    temp_deck = shuffled_deck\n",
    "    shuffled_deck = new_deck()\n",
    "    \n",
    "    # shuffle the deck\n",
    "    half = len(temp_deck[\"suits\"]) // 2\n",
    "    for card in range(half):\n",
    "        for key in [\"suits\", \"values\", \"ids\"]:\n",
    "            shuffled_deck[key].append(temp_deck[key][half + card])\n",
    "            shuffled_deck[key].append(temp_deck[key][card])\n",
    "                              \n",
    "master_deck = shuffled_deck.copy()\n",
    "temp_deck = new_deck()\n",
    "shuffled_deck = new_deck()\n",
    "\n",
    "# test prints        \n",
    "print(len(master_deck[\"suits\"]))\n",
    "print(len(master_deck[\"values\"]))\n",
    "print(len(master_deck[\"ids\"]))"
   ]
  },
  {
   "cell_type": "code",
   "execution_count": 7,
   "id": "5e2f8c09",
   "metadata": {},
   "outputs": [
    {
     "name": "stdout",
     "output_type": "stream",
     "text": [
      "['♠8', '♠8', '♠7', '♠A', '♠4', '♥Q', '♠7', '♠2', '♦K']\n",
      "[8, 8, 7, 11, 4, 10, 7, 2, 10]\n"
     ]
    }
   ],
   "source": [
    "print(master_deck[\"suits\"][1:10])\n",
    "print(master_deck[\"values\"][1:10])"
   ]
  },
  {
   "cell_type": "code",
   "execution_count": 8,
   "id": "1c1affaf",
   "metadata": {},
   "outputs": [
    {
     "name": "stdout",
     "output_type": "stream",
     "text": [
      "416\n",
      "416\n",
      "416\n"
     ]
    }
   ],
   "source": [
    "#testing\n",
    "discard_deck = new_deck()\n",
    "\n",
    "#port and merge to temp dictionary\n",
    "temp_deck = new_deck()\n",
    "for key in temp_deck:\n",
    "    temp_deck[key].extend(discard_deck[key])\n",
    "    temp_deck[key].extend(master_deck[key])\n",
    "\n",
    "#resets\n",
    "master_deck = new_deck()\n",
    "discard_deck = new_deck()\n",
    "\n",
    "# rotary shuffler reset / setup\n",
    "rotary_shuffler = {}\n",
    "slot_bins = []\n",
    "open_bins = []\n",
    "\n",
    "for id in range(52):\n",
    "    # building out dictionary with 52 bins\n",
    "    slot_name = f\"Bin {id}\"\n",
    "    blank_bin = new_deck()\n",
    "    rotary_shuffler[slot_name] = blank_bin.copy()\n",
    "    slot_bins += [id]\n",
    "    open_bins += [id]\n",
    "    \n",
    "# loops until all cards are binned\n",
    "while len(temp_deck[\"suits\"]) > 0:\n",
    "    #defining randomized target\n",
    "    current_slot = random.randint(0,(len(open_bins)-1))\n",
    "    slot_name = f\"Bin {current_slot}\"\n",
    "    \n",
    "    # checking if bin has room, and transferring values if able\n",
    "    if len(rotary_shuffler[slot_name]) <= 8:\n",
    "        for key in [\"suits\", \"values\", \"ids\"]:\n",
    "            rotary_shuffler[slot_name][key].append(temp_deck[key].pop(0))\n",
    "        \n",
    "    # removing full bins for future options    \n",
    "    elif len(rotary_shuffler[slot_name]) == 8:\n",
    "        open_bins.remove(current_slot)\n",
    "        \n",
    "# redirecting target to opposing bin of rotary_shuffler\n",
    "opposite_slot = current_slot + 25\n",
    "\n",
    "# loop to dump bins to new master_deck(s)                                  \n",
    "while slot_bins:\n",
    "\n",
    "    #adjustments to stay within correct index range\n",
    "    opposite_slot %= 52\n",
    "    slot_name = f\"Bin {opposite_slot}\"\n",
    "    \n",
    "    #transferring values back to master_deck\n",
    "    for key in [\"suits\", \"values\", \"ids\"]:\n",
    "        master_deck[key].extend(rotary_shuffler[slot_name][key])\n",
    "    del rotary_shuffler[slot_name]\n",
    "    \n",
    "    # removing bin as possible value\n",
    "    slot_bins.remove(opposite_slot)\n",
    "\n",
    "    #move to next bin\n",
    "    opposite_slot += 1 \n",
    "                                         \n",
    "# test prints        \n",
    "print(len(master_deck[\"suits\"]))\n",
    "print(len(master_deck[\"values\"]))\n",
    "print(len(master_deck[\"ids\"]))"
   ]
  },
  {
   "cell_type": "code",
   "execution_count": 9,
   "id": "18321daa",
   "metadata": {},
   "outputs": [
    {
     "name": "stdout",
     "output_type": "stream",
     "text": [
      "Hand: 1\n",
      "   First Card: ♥3\n",
      "   Second Card: ♣J\n",
      "   Hand Value: 13\n",
      "Hand: 2\n",
      "   First Card: ♦8\n",
      "   Second Card: ♣2\n",
      "   Hand Value: 10\n",
      "Hand: 3\n",
      "   First Card: ♥K\n",
      "   Second Card: ♣K\n",
      "   Hand Value: 20\n",
      "Hand: 4\n",
      "   First Card: ♥5\n",
      "   Second Card: ♦4\n",
      "   Hand Value: 9\n",
      "Hand: 5\n",
      "   First Card: ♣10\n",
      "   Second Card: ♥2\n",
      "   Hand Value: 12\n",
      "Hand: 6\n",
      "   First Card: ♦9\n",
      "   Second Card: ♣A\n",
      "   Hand Value: 20\n",
      "Hand: 7\n",
      "   First Card: ♦Q\n",
      "   Second Card: ♦10\n",
      "   Hand Value: 20\n",
      "Hand: 8\n",
      "   First Card: ♣5\n",
      "   Second Card: ♦A\n",
      "   Hand Value: 16\n",
      "Hand: 9\n",
      "   First Card: ♠A\n",
      "   Second Card: ♠10\n",
      "   Hand Value: 21\n",
      "Hand: 10\n",
      "   First Card: ♣Q\n",
      "   Second Card: ♣J\n",
      "   Hand Value: 20\n"
     ]
    }
   ],
   "source": [
    "#Re-Testing random pairing for accuracy\n",
    "max_range = len(master_deck[\"suits\"])-2\n",
    "\n",
    "for X in range(10):\n",
    "    \n",
    "    first = random.randint(0,max_range)\n",
    "    second = first+1\n",
    "\n",
    "    # print test\n",
    "    print(f\"Hand: {X+1}\")\n",
    "    print(\"   First Card:\",master_deck[\"suits\"][first])\n",
    "    print(\"   Second Card:\",master_deck[\"suits\"][second])\n",
    "    print(\"   Hand Value:\", (master_deck[\"values\"][first] + master_deck[\"values\"][second]))"
   ]
  },
  {
   "cell_type": "code",
   "execution_count": 10,
   "id": "9f168dc0",
   "metadata": {},
   "outputs": [
    {
     "name": "stdout",
     "output_type": "stream",
     "text": [
      "416\n",
      "416\n",
      "416\n"
     ]
    }
   ],
   "source": [
    "# temp value\n",
    "discard_deck = new_deck()\n",
    "\n",
    "#port and merge\n",
    "temp_deck = new_deck()\n",
    "for key in temp_deck:\n",
    "    temp_deck[key].extend(discard_deck[key])\n",
    "    temp_deck[key].extend(master_deck[key])\n",
    "\n",
    "left_temp = new_deck()\n",
    "right_temp = new_deck()\n",
    "\n",
    "#resets\n",
    "master_deck = new_deck()\n",
    "discard_deck = new_deck()\n",
    "\n",
    "shuffle_count = 0\n",
    "merge_count = 0\n",
    "\n",
    "# random shuffle rounds\n",
    "side_shuffles = random.randint(5,10)\n",
    "\n",
    "for side_shuffle in range(side_shuffles):\n",
    "    \n",
    "    # shuffle loop\n",
    "    while len(temp_deck[\"suits\"])> 0:\n",
    "        bin_side = random.randint(0,1)\n",
    "        if bin_side == 1:\n",
    "            for key in [\"suits\", \"values\", \"ids\"]:\n",
    "                left_temp[key].append(temp_deck[key].pop(0))\n",
    "        else:\n",
    "            for key in [\"suits\", \"values\", \"ids\"]:\n",
    "                right_temp[key].append(temp_deck[key].pop(0))\n",
    "\n",
    "\n",
    "\n",
    "    # merge loop\n",
    "    while (len(left_temp[\"suits\"])+len(right_temp[\"suits\"])) > 0:  \n",
    "        # merge back left side\n",
    "        if len(left_temp[\"suits\"]) > 0:\n",
    "            for key in [\"suits\", \"values\", \"ids\"]:\n",
    "                master_deck[key].append(left_temp[key].pop(0))\n",
    "        # merge back right side\n",
    "        if len(right_temp[\"suits\"]) > 0:\n",
    "            for key in [\"suits\", \"values\", \"ids\"]:\n",
    "                master_deck[key].append(right_temp[key].pop(0))\n",
    "    \n",
    "# test prints        \n",
    "print(len(master_deck[\"suits\"]))\n",
    "print(len(master_deck[\"values\"]))\n",
    "print(len(master_deck[\"ids\"]))"
   ]
  },
  {
   "cell_type": "code",
   "execution_count": 11,
   "id": "fbcd6017",
   "metadata": {},
   "outputs": [
    {
     "name": "stdout",
     "output_type": "stream",
     "text": [
      "Hand: 1\n",
      "   First Card: ♠A\n",
      "   Second Card: ♠7\n",
      "   Hand Value: 18\n",
      "Hand: 2\n",
      "   First Card: ♠4\n",
      "   Second Card: ♣6\n",
      "   Hand Value: 10\n",
      "Hand: 3\n",
      "   First Card: ♣10\n",
      "   Second Card: ♣A\n",
      "   Hand Value: 21\n",
      "Hand: 4\n",
      "   First Card: ♣3\n",
      "   Second Card: ♥3\n",
      "   Hand Value: 6\n",
      "Hand: 5\n",
      "   First Card: ♦K\n",
      "   Second Card: ♥8\n",
      "   Hand Value: 18\n",
      "Hand: 6\n",
      "   First Card: ♥J\n",
      "   Second Card: ♦9\n",
      "   Hand Value: 19\n",
      "Hand: 7\n",
      "   First Card: ♥5\n",
      "   Second Card: ♥5\n",
      "   Hand Value: 10\n",
      "Hand: 8\n",
      "   First Card: ♦9\n",
      "   Second Card: ♠4\n",
      "   Hand Value: 13\n",
      "Hand: 9\n",
      "   First Card: ♥K\n",
      "   Second Card: ♥6\n",
      "   Hand Value: 16\n",
      "Hand: 10\n",
      "   First Card: ♠7\n",
      "   Second Card: ♥K\n",
      "   Hand Value: 17\n"
     ]
    }
   ],
   "source": [
    "#Re-Testing random pairing for accuracy\n",
    "max_range = len(master_deck[\"suits\"])-2\n",
    "\n",
    "for X in range(10):\n",
    "    \n",
    "    first = random.randint(0,max_range)\n",
    "    second = first+1\n",
    "\n",
    "    # print test\n",
    "    print(f\"Hand: {X+1}\")\n",
    "    print(\"   First Card:\",master_deck[\"suits\"][first])\n",
    "    print(\"   Second Card:\",master_deck[\"suits\"][second])\n",
    "    print(\"   Hand Value:\", (master_deck[\"values\"][first] + master_deck[\"values\"][second]))"
   ]
  },
  {
   "cell_type": "code",
   "execution_count": 12,
   "id": "6c9fea97",
   "metadata": {},
   "outputs": [],
   "source": [
    "dealer = new_deck()\n",
    "\n",
    "player = new_deck()"
   ]
  },
  {
   "cell_type": "code",
   "execution_count": 13,
   "id": "f3fb0fe3",
   "metadata": {},
   "outputs": [
    {
     "name": "stdout",
     "output_type": "stream",
     "text": [
      "♥3\n",
      "['♦2', '♠2']\n",
      "4\n"
     ]
    }
   ],
   "source": [
    "for deal in range(2):\n",
    "    for key in [\"suits\", \"values\", \"ids\"]:\n",
    "        dealer[key].append(master_deck[key].pop(0))\n",
    "    for key in [\"suits\", \"values\", \"ids\"]:\n",
    "        player[key].append(master_deck[key].pop(0))\n",
    "    \n",
    "print(dealer[\"suits\"][1])\n",
    "print(player[\"suits\"])\n",
    "print(sum(player[\"values\"]))"
   ]
  },
  {
   "cell_type": "code",
   "execution_count": 14,
   "id": "e3f1f4b9",
   "metadata": {},
   "outputs": [
    {
     "name": "stdout",
     "output_type": "stream",
     "text": [
      "['♠7', '♥3']\n"
     ]
    }
   ],
   "source": [
    "print(dealer[\"suits\"])"
   ]
  },
  {
   "cell_type": "code",
   "execution_count": 15,
   "id": "6391d165",
   "metadata": {},
   "outputs": [
    {
     "name": "stdout",
     "output_type": "stream",
     "text": [
      "{'suits': ['♠7', '♥3'], 'values': [7, 3], 'ids': [214, 257]}\n"
     ]
    }
   ],
   "source": [
    "print(dealer)"
   ]
  },
  {
   "cell_type": "code",
   "execution_count": 16,
   "id": "5d27518c",
   "metadata": {},
   "outputs": [
    {
     "data": {
      "text/plain": [
       "'\\nmatch_round = True\\nprint(f\"Your hand is {player[\\'suits\\']}\")\\n\\nif sum(player[\"values\"]) == 21:\\n    print(\"YOU GOT A BLACKJACK\")\\n    \\nelse:\\n    while match_round:\\n        print(f\"Dealer is showing {dealer[\\'suits\\'][1]}\")\\n        print(f\"Your hand value is {sum(player[\\'values\\'])}\")\\n        user_input = input(\"Do you want to hit? (yes/no):\").lower()\\n        if user_input == \\'yes\\':\\n            while user_input == \\'yes\\':\\n                for key in [\"suits\", \"values\", \"ids\"]:\\n                    player[key].append(master_deck[key].pop(0))\\n                if sum(player[\"values\"]) > 21:\\n                    print(f\"Your hand value is {sum(player[\\'values\\'])}. You Bust\")\\n                    user_input = \\'no\\'\\n                    match_round = False\\n                    break\\n                else:\\n                    print(f\"Your hand value is now {sum(player[\\'values\\'])}\")\\n                    user_input = input(\"Do you want to hit? (yes/no):\").lower()\\n        elif user_input == \\'no\\':\\n            match_round = False\\n        else:\\n            print(\"Invalid input detected\")\\n            print(\"\")\\n            \\n#check for instant win\\nif sum(dealer[\\'values\\']) == 21:\\n    #print(dealer[\\'suits\\'])\\n    print(\"Dealer has a Blackjack\")\\n# draw to reach limit\\nelse:\\n    while sum(dealer[\\'values\\']) < 17:\\n        for key in [\"suits\", \"values\", \"ids\"]:\\n            dealer[key].append(master_deck[key].pop(0))\\n\\n    if sum(dealer[\\'values\\']) > 21:\\n        print(f\"Dealer\\'s hand is {dealer[\\'suits\\']}\")\\n        print(f\"Dealer\\'s hand value is {sum(dealer[\\'values\\'])}\")\\n    else:     \\n        print(dealer[\\'suits\\'])\\n        print(f\"Dealer\\'s hand is {dealer[\\'suits\\']}\")\\n        print(f\"Dealer\\'s hand value is {sum(dealer[\\'values\\'])}\")\\n        \\n        \\nif sum(player[\\'values\\']) > 21:\\n    print(\"Sorry, you bust\")\\nelse:\\n    if sum(player[\\'values\\']) <= 21 and sum(dealer[\\'values\\']) > 21:\\n        print(\"Dealer bust. You win!\")\\n    elif sum(player[\\'values\\']) <= 21 and sum(player[\\'values\\']) > sum(dealer[\\'values\\']):\\n        print(\"You beat the Dealer. You Win!\")\\n    elif sum(player[\"values\"]) == sum(dealer[\\'values\\']):\\n        print(\\'You matched the dealer. This is a draw\\')\\n    else:\\n        print(\\'Sorry, you lose\\')\\n'"
      ]
     },
     "execution_count": 16,
     "metadata": {},
     "output_type": "execute_result"
    }
   ],
   "source": [
    "match_round = True\n",
    "print(f\"Your hand is {player['suits']}\")\n",
    "\n",
    "if sum(player[\"values\"]) == 21:\n",
    "    print(\"YOU GOT A BLACKJACK\")\n",
    "    \n",
    "else:\n",
    "    while match_round:\n",
    "        print(f\"Dealer is showing {dealer['suits'][1]}\")\n",
    "        print(f\"Your hand value is {sum(player['values'])}\")\n",
    "        user_input = input(\"Do you want to hit? (yes/no):\").lower()\n",
    "        if user_input == 'yes':\n",
    "            while user_input == 'yes':\n",
    "                for key in [\"suits\", \"values\", \"ids\"]:\n",
    "                    player[key].append(master_deck[key].pop(0))\n",
    "                if sum(player[\"values\"]) > 21:\n",
    "                    print(f\"Your hand value is {sum(player['values'])}. You Bust\")\n",
    "                    user_input = 'no'\n",
    "                    match_round = False\n",
    "                    break\n",
    "                else:\n",
    "                    print(f\"Your hand value is now {sum(player['values'])}\")\n",
    "                    user_input = input(\"Do you want to hit? (yes/no):\").lower()\n",
    "        elif user_input == 'no':\n",
    "            match_round = False\n",
    "        else:\n",
    "            print(\"Invalid input detected\")\n",
    "            print(\"\")\n",
    "            \n",
    "#check for instant win\n",
    "if sum(dealer['values']) == 21:\n",
    "    #print(dealer['suits'])\n",
    "    print(\"Dealer has a Blackjack\")\n",
    "# draw to reach limit\n",
    "else:\n",
    "    while sum(dealer['values']) < 17:\n",
    "        for key in [\"suits\", \"values\", \"ids\"]:\n",
    "            dealer[key].append(master_deck[key].pop(0))\n",
    "\n",
    "    if sum(dealer['values']) > 21:\n",
    "        print(f\"Dealer's hand is {dealer['suits']}\")\n",
    "        print(f\"Dealer's hand value is {sum(dealer['values'])}\")\n",
    "    else:     \n",
    "        print(dealer['suits'])\n",
    "        print(f\"Dealer's hand is {dealer['suits']}\")\n",
    "        print(f\"Dealer's hand value is {sum(dealer['values'])}\")\n",
    "        \n",
    "        \n",
    "if sum(player['values']) > 21:\n",
    "    print(\"Sorry, you bust\")\n",
    "else:\n",
    "    if sum(player['values']) <= 21 and sum(dealer['values']) > 21:\n",
    "        print(\"Dealer bust. You win!\")\n",
    "    elif sum(player['values']) <= 21 and sum(player['values']) > sum(dealer['values']):\n",
    "        print(\"You beat the Dealer. You Win!\")\n",
    "    elif sum(player[\"values\"]) == sum(dealer['values']):\n",
    "        print('You matched the dealer. This is a draw')\n",
    "    else:\n",
    "        print('Sorry, you lose')"
   ]
  },
  {
   "cell_type": "code",
   "execution_count": 17,
   "id": "451eed6c",
   "metadata": {},
   "outputs": [],
   "source": [
    "#check for instant win\n",
    "#if sum(dealer[\"values\"]) == 21:\n",
    "    #print(dealer[\"suits\"])\n",
    "    #print(\"BLACKJACK\")\n",
    "# draw to reach limit\n",
    "#else:\n",
    "    #while sum(dealer[\"values\"]) < 16:\n",
    "        #for key in [\"suits\", \"values\", \"ids\"]:\n",
    "            #dealer[key].append(master_deck[key].pop(0))\n",
    "\n",
    "    #if sum(dealer[\"values\"]) > 21:\n",
    "        #print(dealer[\"suits\"])\n",
    "        #print(\"BUST\")\n",
    "   # else:     \n",
    "        #print(dealer[\"suits\"])\n",
    "        #print(sum(dealer[\"values\"]))"
   ]
  },
  {
   "cell_type": "code",
   "execution_count": 18,
   "id": "41e3f957",
   "metadata": {},
   "outputs": [
    {
     "name": "stdout",
     "output_type": "stream",
     "text": [
      "{'suits': ['♠7', '♥3', '♦2', '♠2'], 'values': [7, 3, 2, 2], 'ids': [214, 257, 274, 1]}\n"
     ]
    }
   ],
   "source": [
    "for key, value in dealer.items():\n",
    "    if key in discard_deck:\n",
    "        discard_deck[key] += value\n",
    "        \n",
    "for key, value in player.items():\n",
    "    if key in discard_deck:\n",
    "        discard_deck[key] += value\n",
    "        \n",
    "dealer = new_deck()\n",
    "player = new_deck()\n",
    "\n",
    "print(discard_deck)"
   ]
  },
  {
   "cell_type": "code",
   "execution_count": null,
   "id": "17a82770",
   "metadata": {},
   "outputs": [],
   "source": []
  }
 ],
 "metadata": {
  "kernelspec": {
   "display_name": "Python 3 (ipykernel)",
   "language": "python",
   "name": "python3"
  },
  "language_info": {
   "codemirror_mode": {
    "name": "ipython",
    "version": 3
   },
   "file_extension": ".py",
   "mimetype": "text/x-python",
   "name": "python",
   "nbconvert_exporter": "python",
   "pygments_lexer": "ipython3",
   "version": "3.7.1"
  }
 },
 "nbformat": 4,
 "nbformat_minor": 5
}
