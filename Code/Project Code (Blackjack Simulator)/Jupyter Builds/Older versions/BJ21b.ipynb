{
 "cells": [
  {
   "cell_type": "code",
   "execution_count": 1,
   "id": "b7dcc238",
   "metadata": {},
   "outputs": [],
   "source": [
    "import random"
   ]
  },
  {
   "cell_type": "code",
   "execution_count": 2,
   "id": "bf2286ef",
   "metadata": {},
   "outputs": [
    {
     "name": "stdout",
     "output_type": "stream",
     "text": [
      "[11, 2, 3, 4, 5, 6, 7, 8, 9, 10, 10, 10, 10, 11, 2, 3, 4, 5, 6, 7, 8, 9, 10, 10, 10, 10, 10, 10, 10, 10, 9, 8, 7, 6, 5, 4, 3, 2, 11, 10, 10, 10, 10, 9, 8, 7, 6, 5, 4, 3, 2, 11]\n",
      "['♠A', '♠2', '♠3', '♠4', '♠5', '♠6', '♠7', '♠8', '♠9', '♠10', '♠J', '♠Q', '♠K', '♦A', '♦2', '♦3', '♦4', '♦5', '♦6', '♦7', '♦8', '♦9', '♦10', '♦J', '♦Q', '♦K', '♣K', '♣Q', '♣J', '♣10', '♣9', '♣8', '♣7', '♣6', '♣5', '♣4', '♣3', '♣2', '♣A', '♥K', '♥Q', '♥J', '♥10', '♥9', '♥8', '♥7', '♥6', '♥5', '♥4', '♥3', '♥2', '♥A']\n"
     ]
    }
   ],
   "source": [
    "# Unicode icons\n",
    "spade = '\\u2660'\n",
    "club = '\\u2663'\n",
    "heart = '\\u2665'\n",
    "diamond = '\\u2666'\n",
    "\n",
    "\n",
    "#setting up unique features\n",
    "suits = [spade,diamond,club,heart]\n",
    "faces = [\"A\",\"2\",\"3\",\"4\",\"5\",\"6\",\"7\",\"8\",\"9\",\"10\",\"J\",\"Q\",\"K\"]\n",
    "values = [11,2,3,4,5,6,7,8,9,10,10,10,10]\n",
    "\n",
    "# empty bins\n",
    "raw_deck_suits = []\n",
    "raw_deck_values = []\n",
    "\n",
    "# loop to initalize all unique combinations in both bins\n",
    "for suit_index,suit in enumerate(suits):\n",
    "    if suit_index < 2:\n",
    "        for face_index, face in enumerate(faces):\n",
    "            raw_deck_suits = raw_deck_suits + [values[face_index]]\n",
    "            raw_deck_values = raw_deck_values + [suit + face]\n",
    "    else:\n",
    "        for face_index, face in enumerate(reversed(faces)):\n",
    "            raw_deck_suits = raw_deck_suits + [values[-face_index-1]]\n",
    "            raw_deck_values = raw_deck_values + [suit + face]\n",
    "            \n",
    "# test prints        \n",
    "print(raw_deck_suits)\n",
    "print(raw_deck_values)"
   ]
  },
  {
   "cell_type": "code",
   "execution_count": 3,
   "id": "3e222edd",
   "metadata": {},
   "outputs": [
    {
     "name": "stdout",
     "output_type": "stream",
     "text": [
      "loop: 1\n",
      "while:52/ shuffle:14/ split:182\n",
      "loop: 2\n",
      "while:0/ shuffle:12/ split:0\n",
      "loop: 3\n",
      "while:0/ shuffle:12/ split:0\n",
      "loop: 4\n",
      "while:0/ shuffle:4/ split:0\n",
      "loop: 5\n",
      "while:0/ shuffle:8/ split:0\n",
      "loop: 6\n",
      "while:0/ shuffle:18/ split:0\n",
      "loop: 7\n",
      "while:0/ shuffle:8/ split:0\n",
      "loop: 8\n",
      "while:0/ shuffle:6/ split:0\n",
      "[10, 9, 10, 2, 10, 10, 10, 3, 10, 4, 7, 10, 2, 4, 5, 9, 8, 11, 11, 9, 5, 2, 7, 11, 10, 6, 6, 8, 10, 10, 6, 10, 6, 4, 2, 3, 10, 9, 4, 10, 10, 3, 11, 5, 8, 7, 7, 10, 5, 3, 8, 10]\n",
      "['♠K', '♥9', '♥J', '♠2', '♦K', '♣Q', '♥K', '♠3', '♣10', '♠4', '♣7', '♠J', '♥2', '♣4', '♥5', '♠9', '♥8', '♠A', '♣A', '♦9', '♠5', '♦2', '♦7', '♦A', '♦J', '♣6', '♥6', '♣8', '♥Q', '♦Q', '♠6', '♠10', '♦6', '♦4', '♣2', '♣3', '♣J', '♣9', '♥4', '♦10', '♣K', '♦3', '♥A', '♣5', '♦8', '♠7', '♥7', '♥10', '♦5', '♥3', '♠8', '♠Q']\n"
     ]
    }
   ],
   "source": [
    "# Loop for multi deck assembly\n",
    "\n",
    "loops = 8\n",
    "master_deck_suits = []\n",
    "master_deck_values = []\n",
    "random_bin_values = raw_deck_values\n",
    "random_bin_suits = raw_deck_suits\n",
    "while_count = 0\n",
    "shuffle_count = 0\n",
    "split_count = 0\n",
    "dummy_values = raw_deck_values\n",
    "dummy_suits = raw_deck_suits\n",
    "\n",
    "for loop in range(loops):\n",
    "\n",
    "    print(\"loop:\",loop+1)\n",
    "    # moving values to bin, and reseting original lists\n",
    "    random_bin_values = dummy_values\n",
    "    random_bin_suits = dummy_suits\n",
    "    deck_values_r = []\n",
    "    deck_suits_r = []\n",
    "\n",
    "    # randomizing deck\n",
    "    while len(random_bin_values) > 0:\n",
    "        index_count = len(random_bin_values)-1\n",
    "        random_index = random.randint(0 ,index_count)\n",
    "        deck_suits_r = deck_suits_r + [random_bin_suits[random_index]]\n",
    "        deck_values_r = deck_values_r + [random_bin_values[random_index]]\n",
    "        del random_bin_suits[random_index]\n",
    "        del random_bin_values[random_index]\n",
    "        while_count += 1\n",
    "        next\n",
    "        \n",
    "    # random times shuffled\n",
    "    shuffle_count = random.randint(2,10)\n",
    "\n",
    "    for shuffle in range(shuffle_count):\n",
    "        # bin reset per shuffle\n",
    "        shuffle_bin_values = deck_values_r\n",
    "        shuffle_bin_suits = deck_suits_r\n",
    "        deck_values_s = []\n",
    "        deck_suits_s = []\n",
    "\n",
    "        # logs half deck\n",
    "        half = int(len(shuffle_bin_values)/2)\n",
    "\n",
    "        for card in range(half):\n",
    "            deck_values_s = deck_values_s + [shuffle_bin_values[half+card]] + [shuffle_bin_values[card]]\n",
    "            deck_suits_s = deck_suits_s + [shuffle_bin_suits[half+card]] + [shuffle_bin_suits[card]]\n",
    "            split_count += 1\n",
    "            next\n",
    "            \n",
    "        shuffle_count += 1\n",
    "        next\n",
    "            \n",
    "    print(f\"while:{while_count}/ shuffle:{shuffle_count}/ split:{split_count}\")\n",
    "    master_deck_suits = master_deck_suits + deck_suits_s\n",
    "    master_deck_values = master_deck_values + deck_values_s\n",
    "    \n",
    "    # reset\n",
    "    shuffle_bin_values = []\n",
    "    shuffle_bin_suits = []\n",
    "    \n",
    "    while_count = 0\n",
    "    shuffle_count = 0\n",
    "    split_count = 0\n",
    "    next\n",
    "\n",
    "# test prints        \n",
    "print(master_deck_suits)\n",
    "print(master_deck_values)"
   ]
  },
  {
   "cell_type": "code",
   "execution_count": 4,
   "id": "4ff34ec4",
   "metadata": {},
   "outputs": [
    {
     "data": {
      "text/plain": [
       "0"
      ]
     },
     "execution_count": 4,
     "metadata": {},
     "output_type": "execute_result"
    }
   ],
   "source": [
    "half"
   ]
  },
  {
   "cell_type": "code",
   "execution_count": null,
   "id": "839c39a6",
   "metadata": {},
   "outputs": [],
   "source": []
  }
 ],
 "metadata": {
  "kernelspec": {
   "display_name": "Python 3 (ipykernel)",
   "language": "python",
   "name": "python3"
  },
  "language_info": {
   "codemirror_mode": {
    "name": "ipython",
    "version": 3
   },
   "file_extension": ".py",
   "mimetype": "text/x-python",
   "name": "python",
   "nbconvert_exporter": "python",
   "pygments_lexer": "ipython3",
   "version": "3.7.1"
  }
 },
 "nbformat": 4,
 "nbformat_minor": 5
}
