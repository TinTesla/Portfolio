{
 "cells": [
  {
   "cell_type": "code",
   "execution_count": null,
   "id": "0c0b0013",
   "metadata": {},
   "outputs": [],
   "source": [
    "import random\n",
    "\n",
    "def create_empty_deck():\n",
    "    return {\"suits\": [], \"values\": [], \"ids\": []}\n",
    "\n",
    "# Resetting decks\n",
    "discard_deck = create_empty_deck()\n",
    "master_deck = create_empty_deck()\n",
    "\n",
    "# Setting up rotary shuffler\n",
    "rotary_shuffler = {}\n",
    "slot_bins = []\n",
    "open_bins = []\n",
    "\n",
    "for id in range(52):\n",
    "    slot_name = f\"Bin {id}\"\n",
    "    blank_bin = create_empty_deck()\n",
    "    rotary_shuffler[slot_name] = blank_bin.copy()\n",
    "    slot_bins.append(id)\n",
    "    open_bins.append(id)\n",
    "\n",
    "# Binning cards\n",
    "while len(temp_deck[\"suits\"]) > 0:\n",
    "    current_slot = random.choice(open_bins)\n",
    "    slot_name = f\"Bin {current_slot}\"\n",
    "    if len(rotary_shuffler[slot_name][\"suits\"]) <= 8:\n",
    "        for key in [\"suits\", \"values\", \"ids\"]:\n",
    "            rotary_shuffler[slot_name][key].append(temp_deck[key].pop(0))\n",
    "        if len(rotary_shuffler[slot_name][\"suits\"]) == 8:\n",
    "            open_bins.remove(current_slot)\n",
    "\n",
    "# Dumping bins to master_deck\n",
    "opposite_slot = current_slot + 25\n",
    "\n",
    "while slot_bins:\n",
    "    opposite_slot %= 52\n",
    "    slot_name = f\"Bin {opposite_slot}\"\n",
    "    for key in [\"suits\", \"values\", \"ids\"]:\n",
    "        master_deck[key].extend(rotary_shuffler[slot_name][key])\n",
    "    del rotary_shuffler[slot_name]\n",
    "    slot_bins.remove(opposite_slot)\n",
    "    opposite_slot += 1\n",
    "\n",
    "# Test prints\n",
    "print(len(master_deck[\"suits\"]))\n",
    "print(len(master_deck[\"values\"]))\n",
    "print(len(master_deck[\"ids\"]))"
   ]
  }
 ],
 "metadata": {
  "kernelspec": {
   "display_name": "Python 3 (ipykernel)",
   "language": "python",
   "name": "python3"
  },
  "language_info": {
   "codemirror_mode": {
    "name": "ipython",
    "version": 3
   },
   "file_extension": ".py",
   "mimetype": "text/x-python",
   "name": "python",
   "nbconvert_exporter": "python",
   "pygments_lexer": "ipython3",
   "version": "3.7.1"
  }
 },
 "nbformat": 4,
 "nbformat_minor": 5
}
